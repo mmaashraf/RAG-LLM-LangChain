{
 "cells": [
  {
   "cell_type": "code",
   "execution_count": 5,
   "id": "d7f40929-e1f5-41b6-a196-092848aae718",
   "metadata": {},
   "outputs": [
    {
     "name": "stdout",
     "output_type": "stream",
     "text": [
      "Note: you may need to restart the kernel to use updated packages.\n"
     ]
    }
   ],
   "source": [
    "%pip install --quiet --upgrade langchain-text-splitters langchain-community langgraph"
   ]
  },
  {
   "cell_type": "code",
   "execution_count": 6,
   "id": "09c6eb20-5633-46e2-b7be-fd2f647ab9a8",
   "metadata": {
    "scrolled": true
   },
   "outputs": [
    {
     "name": "stdout",
     "output_type": "stream",
     "text": [
      "Note: you may need to restart the kernel to use updated packages.\n",
      "Requirement already satisfied: langchain in /opt/homebrew/Cellar/jupyterlab/4.3.6/libexec/lib/python3.13/site-packages (0.3.23)\n",
      "Requirement already satisfied: langchain-openai in /opt/homebrew/Cellar/jupyterlab/4.3.6/libexec/lib/python3.13/site-packages (0.3.14)\n",
      "Requirement already satisfied: langchain-core<1.0.0,>=0.3.51 in /opt/homebrew/Cellar/jupyterlab/4.3.6/libexec/lib/python3.13/site-packages (from langchain) (0.3.54)\n",
      "Requirement already satisfied: langchain-text-splitters<1.0.0,>=0.3.8 in /opt/homebrew/Cellar/jupyterlab/4.3.6/libexec/lib/python3.13/site-packages (from langchain) (0.3.8)\n",
      "Requirement already satisfied: langsmith<0.4,>=0.1.17 in /opt/homebrew/Cellar/jupyterlab/4.3.6/libexec/lib/python3.13/site-packages (from langchain) (0.3.19)\n",
      "Requirement already satisfied: pydantic<3.0.0,>=2.7.4 in /opt/homebrew/Cellar/jupyterlab/4.3.6/libexec/lib/python3.13/site-packages (from langchain) (2.11.1)\n",
      "Requirement already satisfied: SQLAlchemy<3,>=1.4 in /opt/homebrew/Cellar/jupyterlab/4.3.6/libexec/lib/python3.13/site-packages (from langchain) (2.0.40)\n",
      "Requirement already satisfied: requests<3,>=2 in /opt/homebrew/Cellar/jupyterlab/4.3.6/libexec/lib/python3.13/site-packages (from langchain) (2.32.3)\n",
      "Requirement already satisfied: PyYAML>=5.3 in /opt/homebrew/Cellar/jupyterlab/4.3.6/libexec/lib/python3.13/site-packages (from langchain) (6.0.2)\n",
      "Requirement already satisfied: openai<2.0.0,>=1.68.2 in /opt/homebrew/Cellar/jupyterlab/4.3.6/libexec/lib/python3.13/site-packages (from langchain-openai) (1.69.0)\n",
      "Requirement already satisfied: tiktoken<1,>=0.7 in /opt/homebrew/Cellar/jupyterlab/4.3.6/libexec/lib/python3.13/site-packages (from langchain-openai) (0.9.0)\n",
      "Requirement already satisfied: tenacity!=8.4.0,<10.0.0,>=8.1.0 in /opt/homebrew/Cellar/jupyterlab/4.3.6/libexec/lib/python3.13/site-packages (from langchain-core<1.0.0,>=0.3.51->langchain) (9.0.0)\n",
      "Requirement already satisfied: jsonpatch<2.0,>=1.33 in /opt/homebrew/Cellar/jupyterlab/4.3.6/libexec/lib/python3.13/site-packages (from langchain-core<1.0.0,>=0.3.51->langchain) (1.33)\n",
      "Requirement already satisfied: packaging<25,>=23.2 in /opt/homebrew/Cellar/jupyterlab/4.3.6/libexec/lib/python3.13/site-packages (from langchain-core<1.0.0,>=0.3.51->langchain) (24.2)\n",
      "Requirement already satisfied: typing-extensions>=4.7 in /opt/homebrew/Cellar/jupyterlab/4.3.6/libexec/lib/python3.13/site-packages (from langchain-core<1.0.0,>=0.3.51->langchain) (4.12.2)\n",
      "Requirement already satisfied: httpx<1,>=0.23.0 in /opt/homebrew/Cellar/jupyterlab/4.3.6/libexec/lib/python3.13/site-packages (from langsmith<0.4,>=0.1.17->langchain) (0.28.1)\n",
      "Requirement already satisfied: orjson<4.0.0,>=3.9.14 in /opt/homebrew/Cellar/jupyterlab/4.3.6/libexec/lib/python3.13/site-packages (from langsmith<0.4,>=0.1.17->langchain) (3.10.16)\n",
      "Requirement already satisfied: requests-toolbelt<2.0.0,>=1.0.0 in /opt/homebrew/Cellar/jupyterlab/4.3.6/libexec/lib/python3.13/site-packages (from langsmith<0.4,>=0.1.17->langchain) (1.0.0)\n",
      "Requirement already satisfied: zstandard<0.24.0,>=0.23.0 in /opt/homebrew/Cellar/jupyterlab/4.3.6/libexec/lib/python3.13/site-packages (from langsmith<0.4,>=0.1.17->langchain) (0.23.0)\n",
      "Requirement already satisfied: anyio<5,>=3.5.0 in /opt/homebrew/Cellar/jupyterlab/4.3.6/libexec/lib/python3.13/site-packages (from openai<2.0.0,>=1.68.2->langchain-openai) (4.8.0)\n",
      "Requirement already satisfied: distro<2,>=1.7.0 in /opt/homebrew/Cellar/jupyterlab/4.3.6/libexec/lib/python3.13/site-packages (from openai<2.0.0,>=1.68.2->langchain-openai) (1.9.0)\n",
      "Requirement already satisfied: jiter<1,>=0.4.0 in /opt/homebrew/Cellar/jupyterlab/4.3.6/libexec/lib/python3.13/site-packages (from openai<2.0.0,>=1.68.2->langchain-openai) (0.9.0)\n",
      "Requirement already satisfied: sniffio in /opt/homebrew/Cellar/jupyterlab/4.3.6/libexec/lib/python3.13/site-packages (from openai<2.0.0,>=1.68.2->langchain-openai) (1.3.1)\n",
      "Requirement already satisfied: tqdm>4 in /opt/homebrew/Cellar/jupyterlab/4.3.6/libexec/lib/python3.13/site-packages (from openai<2.0.0,>=1.68.2->langchain-openai) (4.67.1)\n",
      "Requirement already satisfied: annotated-types>=0.6.0 in /opt/homebrew/Cellar/jupyterlab/4.3.6/libexec/lib/python3.13/site-packages (from pydantic<3.0.0,>=2.7.4->langchain) (0.7.0)\n",
      "Requirement already satisfied: pydantic-core==2.33.0 in /opt/homebrew/Cellar/jupyterlab/4.3.6/libexec/lib/python3.13/site-packages (from pydantic<3.0.0,>=2.7.4->langchain) (2.33.0)\n",
      "Requirement already satisfied: typing-inspection>=0.4.0 in /opt/homebrew/Cellar/jupyterlab/4.3.6/libexec/lib/python3.13/site-packages (from pydantic<3.0.0,>=2.7.4->langchain) (0.4.0)\n",
      "Requirement already satisfied: charset_normalizer<4,>=2 in /opt/homebrew/Cellar/jupyterlab/4.3.6/libexec/lib/python3.13/site-packages (from requests<3,>=2->langchain) (3.4.1)\n",
      "Requirement already satisfied: idna<4,>=2.5 in /opt/homebrew/Cellar/jupyterlab/4.3.6/libexec/lib/python3.13/site-packages (from requests<3,>=2->langchain) (3.10)\n",
      "Requirement already satisfied: urllib3<3,>=1.21.1 in /opt/homebrew/Cellar/jupyterlab/4.3.6/libexec/lib/python3.13/site-packages (from requests<3,>=2->langchain) (2.3.0)\n",
      "Requirement already satisfied: certifi>=2017.4.17 in /opt/homebrew/opt/certifi/lib/python3.13/site-packages (from requests<3,>=2->langchain) (2025.1.31)\n",
      "Requirement already satisfied: regex>=2022.1.18 in /opt/homebrew/Cellar/jupyterlab/4.3.6/libexec/lib/python3.13/site-packages (from tiktoken<1,>=0.7->langchain-openai) (2024.11.6)\n",
      "Requirement already satisfied: httpcore==1.* in /opt/homebrew/Cellar/jupyterlab/4.3.6/libexec/lib/python3.13/site-packages (from httpx<1,>=0.23.0->langsmith<0.4,>=0.1.17->langchain) (1.0.7)\n",
      "Requirement already satisfied: h11<0.15,>=0.13 in /opt/homebrew/Cellar/jupyterlab/4.3.6/libexec/lib/python3.13/site-packages (from httpcore==1.*->httpx<1,>=0.23.0->langsmith<0.4,>=0.1.17->langchain) (0.14.0)\n",
      "Requirement already satisfied: jsonpointer>=1.9 in /opt/homebrew/Cellar/jupyterlab/4.3.6/libexec/lib/python3.13/site-packages (from jsonpatch<2.0,>=1.33->langchain-core<1.0.0,>=0.3.51->langchain) (3.0.0)\n",
      "Note: you may need to restart the kernel to use updated packages.\n",
      "Note: you may need to restart the kernel to use updated packages.\n"
     ]
    }
   ],
   "source": [
    "%pip install -qU \"langchain[openai]\"\n",
    "%pip install -U langchain langchain-openai\n",
    "%pip install -qU langchain-core"
   ]
  },
  {
   "cell_type": "code",
   "execution_count": 2,
   "id": "812c79ae-d8f0-405d-8334-8c89f286c304",
   "metadata": {},
   "outputs": [
    {
     "name": "stdin",
     "output_type": "stream",
     "text": [
      " ········\n"
     ]
    }
   ],
   "source": [
    "import getpass\n",
    "import os\n",
    "\n",
    "os.environ[\"LANGSMITH_TRACING\"] = \"true\"\n",
    "os.environ[\"LANGSMITH_API_KEY\"] = getpass.getpass()"
   ]
  },
  {
   "cell_type": "code",
   "execution_count": 3,
   "id": "bb92dd30-d8c6-4d78-89df-ce56ab141614",
   "metadata": {},
   "outputs": [
    {
     "name": "stderr",
     "output_type": "stream",
     "text": [
      "USER_AGENT environment variable not set, consider setting it to identify your requests.\n"
     ]
    }
   ],
   "source": [
    "import bs4\n",
    "from langchain import hub\n",
    "from langchain_community.document_loaders import WebBaseLoader\n",
    "from langchain_core.documents import Document\n",
    "from langchain_text_splitters import RecursiveCharacterTextSplitter\n",
    "from langgraph.graph import START, StateGraph\n",
    "from typing_extensions import List, TypedDict"
   ]
  },
  {
   "cell_type": "code",
   "execution_count": 4,
   "id": "1492f925-1dcf-4cc1-b277-8f1cd9c88935",
   "metadata": {},
   "outputs": [],
   "source": [
    "\n",
    "# Load and chunk contents of the blog\n",
    "loader = WebBaseLoader(\n",
    "    web_paths=(\"https://lilianweng.github.io/posts/2023-06-23-agent/\",),\n",
    "    bs_kwargs=dict(\n",
    "        parse_only=bs4.SoupStrainer(\n",
    "            class_=(\"post-content\", \"post-title\", \"post-header\")\n",
    "        )\n",
    "    ),\n",
    ")\n",
    "docs = loader.load()\n",
    "\n",
    "text_splitter = RecursiveCharacterTextSplitter(chunk_size=1000, chunk_overlap=200)\n",
    "all_splits = text_splitter.split_documents(docs)\n"
   ]
  },
  {
   "cell_type": "code",
   "execution_count": 5,
   "id": "ed6943bf-ee2d-48fb-bebb-8cb85ff3b628",
   "metadata": {},
   "outputs": [
    {
     "data": {
      "text/plain": [
       "{'web_paths': ['https://lilianweng.github.io/posts/2023-06-23-agent/'],\n",
       " 'requests_per_second': 2,\n",
       " 'default_parser': 'html.parser',\n",
       " 'requests_kwargs': {},\n",
       " 'raise_for_status': False,\n",
       " 'show_progress': True,\n",
       " 'bs_get_text_kwargs': {},\n",
       " 'bs_kwargs': {'parse_only': <SoupStrainer name=[] attrs=defaultdict(<class 'list'>, {'class': [<AttributeValueMatchRule string=post-content pattern=None function=None present=None>, <AttributeValueMatchRule string=post-title pattern=None function=None present=None>, <AttributeValueMatchRule string=post-header pattern=None function=None present=None>]}) string=[]>},\n",
       " 'session': <requests.sessions.Session at 0x107bd9e80>,\n",
       " 'continue_on_failure': False,\n",
       " 'autoset_encoding': True,\n",
       " 'encoding': None,\n",
       " 'trust_env': False}"
      ]
     },
     "execution_count": 5,
     "metadata": {},
     "output_type": "execute_result"
    }
   ],
   "source": [
    "loader.__dict__"
   ]
  },
  {
   "cell_type": "code",
   "execution_count": 6,
   "id": "703df346-2204-4733-a1fd-73e158f93913",
   "metadata": {},
   "outputs": [
    {
     "name": "stdout",
     "output_type": "stream",
     "text": [
      "<class 'list'> Number of char 43130\n"
     ]
    }
   ],
   "source": [
    "print(type(docs), 'Number of char' ,len(docs[0].page_content))"
   ]
  },
  {
   "cell_type": "code",
   "execution_count": 7,
   "id": "80ac4fa8-f868-4695-a40d-1fbc3632fca2",
   "metadata": {},
   "outputs": [
    {
     "name": "stdout",
     "output_type": "stream",
     "text": [
      "Split blog post into 66 sub-documents.\n"
     ]
    }
   ],
   "source": [
    "print(f\"Split blog post into {len(all_splits)} sub-documents.\")"
   ]
  },
  {
   "cell_type": "code",
   "execution_count": null,
   "id": "f105fb64-8364-4c01-931a-e1dd093822e1",
   "metadata": {},
   "outputs": [],
   "source": [
    "# select the LLM"
   ]
  },
  {
   "cell_type": "code",
   "execution_count": 8,
   "id": "c61568f5-a3be-403e-8a38-f6ca5582e50a",
   "metadata": {},
   "outputs": [
    {
     "name": "stdin",
     "output_type": "stream",
     "text": [
      "Enter API key for OpenAI:  ········\n"
     ]
    }
   ],
   "source": [
    "import getpass\n",
    "import os\n",
    "\n",
    "if not os.environ.get(\"OPENAI_API_KEY\"):\n",
    "  os.environ[\"OPENAI_API_KEY\"] = getpass.getpass(\"Enter API key for OpenAI: \")\n",
    "\n",
    "# from langchain.chat_models import init_chat_model\n",
    "# llm = init_chat_model(\"gpt-4o-mini\", model_provider=\"openai\")"
   ]
  },
  {
   "cell_type": "code",
   "execution_count": null,
   "id": "132547c3-3f7e-462d-897a-1d9465c7a0e5",
   "metadata": {},
   "outputs": [],
   "source": [
    "# for leverage langsmith"
   ]
  },
  {
   "cell_type": "code",
   "execution_count": 9,
   "id": "d2104260-7138-457f-8686-aa2de369435b",
   "metadata": {},
   "outputs": [],
   "source": [
    "from langchain_openai import ChatOpenAI\n",
    "\n",
    "llm = ChatOpenAI(model=\"gpt-4o-mini\",\n",
    "    temperature=0,\n",
    "    max_retries=2,)"
   ]
  },
  {
   "cell_type": "code",
   "execution_count": null,
   "id": "e590725a-eb15-4a1f-b1dc-75f77cedba0f",
   "metadata": {},
   "outputs": [],
   "source": [
    "# Select the Embeddings"
   ]
  },
  {
   "cell_type": "code",
   "execution_count": 10,
   "id": "599ea593-1ea3-4e73-8b2f-824a3459112f",
   "metadata": {},
   "outputs": [],
   "source": [
    "import getpass\n",
    "import os\n",
    "\n",
    "if not os.environ.get(\"OPENAI_API_KEY\"):\n",
    "  os.environ[\"OPENAI_API_KEY\"] = getpass.getpass(\"Enter API key for OpenAI: \")\n",
    "\n",
    "from langchain_openai import OpenAIEmbeddings\n",
    "\n",
    "embeddings = OpenAIEmbeddings(model=\"text-embedding-3-large\")"
   ]
  },
  {
   "cell_type": "code",
   "execution_count": 11,
   "id": "8bdea5f2-7100-480b-bb24-689e4fe96183",
   "metadata": {},
   "outputs": [],
   "source": [
    "# Select the vector store"
   ]
  },
  {
   "cell_type": "code",
   "execution_count": 12,
   "id": "aa60e579-3175-499f-a6ed-59c6e730f10b",
   "metadata": {},
   "outputs": [],
   "source": [
    "from langchain_core.vectorstores import InMemoryVectorStore\n",
    "\n",
    "vector_store = InMemoryVectorStore(embeddings)"
   ]
  },
  {
   "cell_type": "code",
   "execution_count": 14,
   "id": "38c5052b-d726-4f6f-a858-e00de884913b",
   "metadata": {},
   "outputs": [],
   "source": [
    "# vector_store.__dict__"
   ]
  },
  {
   "cell_type": "code",
   "execution_count": 13,
   "id": "eb1c1a7a-e041-4b3a-848e-01a0e418397c",
   "metadata": {},
   "outputs": [
    {
     "name": "stdout",
     "output_type": "stream",
     "text": [
      "Help on function pull in module langchain.hub:\n",
      "\n",
      "pull(\n",
      "    owner_repo_commit: 'str',\n",
      "    *,\n",
      "    include_model: 'Optional[bool]' = None,\n",
      "    api_url: 'Optional[str]' = None,\n",
      "    api_key: 'Optional[str]' = None\n",
      ") -> 'Any'\n",
      "    Pull an object from the hub and returns it as a LangChain object.\n",
      "\n",
      "    :param owner_repo_commit: The full name of the prompt to pull from in the format of\n",
      "        `owner/prompt_name:commit_hash` or `owner/prompt_name`\n",
      "        or just `prompt_name` if it's your own prompt.\n",
      "    :param api_url: The URL of the LangChain Hub API. Defaults to the hosted API service\n",
      "        if you have an api key set, or a localhost instance if not.\n",
      "    :param api_key: The API key to use to authenticate with the LangChain Hub API.\n",
      "\n"
     ]
    }
   ],
   "source": [
    "help(hub.pull)"
   ]
  },
  {
   "cell_type": "code",
   "execution_count": 14,
   "id": "73a2603a-53a6-47a8-b28e-c2865e1dd657",
   "metadata": {},
   "outputs": [],
   "source": [
    "\n",
    "# Index chunks\n",
    "_ = vector_store.add_documents(documents=all_splits)\n",
    "\n",
    "# Define prompt for question-answering\n",
    "prompt = hub.pull(\"rlm/rag-prompt\")\n"
   ]
  },
  {
   "cell_type": "code",
   "execution_count": 29,
   "id": "2126dba5-7b90-4765-8258-4644525cccd8",
   "metadata": {},
   "outputs": [],
   "source": [
    "# this particular prompt from the hub, is defining the variables Question: {question} Context: {context}  in its prompt"
   ]
  },
  {
   "cell_type": "code",
   "execution_count": 15,
   "id": "72ce14d8-5c92-4956-a6f9-92336364ccef",
   "metadata": {},
   "outputs": [],
   "source": [
    "\n",
    "# Define state for application\n",
    "class State(TypedDict):\n",
    "    question: str\n",
    "    context: List[Document]\n",
    "    answer: str\n",
    "\n",
    "\n",
    "# Define application steps\n",
    "def retrieve(state: State):\n",
    "    retrieved_docs = vector_store.similarity_search(state[\"question\"])\n",
    "    return {\"context\": retrieved_docs}\n",
    "\n",
    "\n",
    "def generate(state: State):\n",
    "    docs_content = \"\\n\\n\".join(doc.page_content for doc in state[\"context\"])\n",
    "    messages = prompt.invoke({\"question\": state[\"question\"], \"context\": docs_content})\n",
    "    response = llm.invoke(messages)\n",
    "    return {\"answer\": response.content}\n"
   ]
  },
  {
   "cell_type": "code",
   "execution_count": 16,
   "id": "034b398c-6175-45cf-b12f-7e45d789b9b4",
   "metadata": {},
   "outputs": [],
   "source": [
    "# Compile application and test\n",
    "graph_builder = StateGraph(State).add_sequence([retrieve, generate])\n",
    "graph_builder.add_edge(START, \"retrieve\")\n",
    "graph = graph_builder.compile()"
   ]
  },
  {
   "cell_type": "code",
   "execution_count": 17,
   "id": "85ae31b2-99c9-4c8c-9c4d-ee5be1123d92",
   "metadata": {},
   "outputs": [
    {
     "data": {
      "text/plain": [
       "(langgraph.graph.state.CompiledStateGraph, langgraph.graph.state.StateGraph)"
      ]
     },
     "execution_count": 17,
     "metadata": {},
     "output_type": "execute_result"
    }
   ],
   "source": [
    "type(graph),  type(graph_builder)"
   ]
  },
  {
   "cell_type": "code",
   "execution_count": 31,
   "id": "f5be6855-76a3-4aa5-ab96-ee4367e1d41b",
   "metadata": {},
   "outputs": [],
   "source": [
    "# help(StateGraph)"
   ]
  },
  {
   "cell_type": "code",
   "execution_count": 18,
   "id": "d71eff9b-5a0e-49b6-86cb-11adbe0c31a9",
   "metadata": {},
   "outputs": [],
   "source": [
    "# API Reference:hub | WebBaseLoader | Document | RecursiveCharacterTextSplitter | StateGraph"
   ]
  },
  {
   "cell_type": "code",
   "execution_count": 18,
   "id": "854e8132-d924-49e9-944f-25c0e24e1c0b",
   "metadata": {},
   "outputs": [
    {
     "name": "stdout",
     "output_type": "stream",
     "text": [
      "Task Decomposition is the process of breaking down a complex task into smaller, more manageable steps. This can be achieved through techniques like Chain of Thought (CoT) and Tree of Thoughts, which guide models to think step by step and explore multiple reasoning possibilities. It allows for better planning and execution by clarifying the logical relationships between tasks.\n"
     ]
    }
   ],
   "source": [
    "response = graph.invoke({\"question\": \"What is Task Decomposition?\"})\n",
    "print(response[\"answer\"])"
   ]
  },
  {
   "cell_type": "code",
   "execution_count": 19,
   "id": "357bf664-2f01-4fed-9303-a59bafbe8d96",
   "metadata": {},
   "outputs": [
    {
     "name": "stdout",
     "output_type": "stream",
     "text": [
      "The conversation discusses the development of a Super Mario game in Python, focusing on the MVC architecture and keyboard controls. \n",
      "\n",
      "**Important points:**\n",
      "1. The game will be structured using MVC components, which need to be split into separate files.\n",
      "2. Clarification is needed on the specifics of the game, including level design, characters, and gameplay mechanics.\n",
      "3. Details regarding the implementation of keyboard controls, such as key mappings and input handling, are also required.\n"
     ]
    }
   ],
   "source": [
    "response = graph.invoke({\"question\": \"Summarize the topics being discussed, and mention 3 important points from each topic\"})\n",
    "print(response[\"answer\"])"
   ]
  },
  {
   "cell_type": "markdown",
   "id": "f4f07a65-cc4d-4c8a-9731-069a3b8ea1b0",
   "metadata": {},
   "source": [
    "<h1> PART 2 </h1>"
   ]
  },
  {
   "cell_type": "code",
   "execution_count": 20,
   "id": "27026500-1ce1-4621-9c4d-6dd0ac4c8f6b",
   "metadata": {},
   "outputs": [],
   "source": [
    "from langchain_core.tools import tool\n",
    "\n",
    "\n",
    "@tool(response_format=\"content_and_artifact\")\n",
    "def retrieve(query: str):\n",
    "    \"\"\"Retrieve information related to a query.\"\"\"\n",
    "    retrieved_docs = vector_store.similarity_search(query, k=2)\n",
    "    serialized = \"\\n\\n\".join(\n",
    "        (f\"Source: {doc.metadata}\\n\" f\"Content: {doc.page_content}\")\n",
    "        for doc in retrieved_docs\n",
    "    )\n",
    "    return serialized, retrieved_docs"
   ]
  },
  {
   "cell_type": "code",
   "execution_count": 26,
   "id": "c7044a80-375b-4849-9197-4f2e86b5fcbd",
   "metadata": {},
   "outputs": [
    {
     "data": {
      "text/plain": [
       "langchain_core.tools.structured.StructuredTool"
      ]
     },
     "execution_count": 26,
     "metadata": {},
     "output_type": "execute_result"
    }
   ],
   "source": [
    "type(retrieve)"
   ]
  },
  {
   "cell_type": "markdown",
   "id": "a716d03b-d4ed-4444-b50b-36d84b92d083",
   "metadata": {},
   "source": [
    "<p>\n",
    "new steps in the graph, \n",
    "\n",
    "query or respond : will bind the model with the retrieve tool\n",
    "    and gets relavant docs using the messages in state\n",
    "    and then appends the results to messages\n",
    "</p>"
   ]
  },
  {
   "cell_type": "code",
   "execution_count": 24,
   "id": "0d905505-6014-4c78-9cfd-8fe019367b4a",
   "metadata": {},
   "outputs": [],
   "source": [
    "from langgraph.graph import MessagesState, StateGraph\n",
    "\n",
    "graph_builder = StateGraph(MessagesState)"
   ]
  },
  {
   "cell_type": "code",
   "execution_count": 47,
   "id": "07844d66-5fe1-4919-b44e-a84ce622cfb0",
   "metadata": {},
   "outputs": [],
   "source": [
    "# help(MessagesState)"
   ]
  },
  {
   "cell_type": "code",
   "execution_count": 25,
   "id": "fc96ddcd-8946-40c5-ab6d-992dbf43a778",
   "metadata": {},
   "outputs": [],
   "source": [
    "from langchain_core.messages import SystemMessage\n",
    "from langgraph.prebuilt import ToolNode\n",
    "\n",
    "\n",
    "# Step 1: Generate an AIMessage that may include a tool-call to be sent.\n",
    "def query_or_respond(state: MessagesState):\n",
    "    \"\"\"Generate tool call for retrieval or respond.\"\"\"\n",
    "    llm_with_tools = llm.bind_tools([retrieve])\n",
    "    response = llm_with_tools.invoke(state[\"messages\"])\n",
    "    # MessagesState appends messages to state instead of overwriting\n",
    "    return {\"messages\": [response]}\n",
    "\n",
    "\n",
    "# Step 2: Execute the retrieval.\n",
    "tools = ToolNode([retrieve])\n",
    "\n",
    "\n",
    "# Step 3: Generate a response using the retrieved content.\n",
    "def generate(state: MessagesState):\n",
    "    \"\"\"Generate answer.\"\"\"\n",
    "    # Get generated ToolMessages\n",
    "    recent_tool_messages = []\n",
    "    for message in reversed(state[\"messages\"]):\n",
    "        if message.type == \"tool\":\n",
    "            recent_tool_messages.append(message)\n",
    "        else:\n",
    "            break\n",
    "    tool_messages = recent_tool_messages[::-1]\n",
    "\n",
    "    # Format into prompt\n",
    "    docs_content = \"\\n\\n\".join(doc.content for doc in tool_messages)\n",
    "    system_message_content = (\n",
    "        \"You are an assistant for question-answering tasks. \"\n",
    "        \"Use the following pieces of retrieved context to answer \"\n",
    "        \"the question. If you don't know the answer, say that you \"\n",
    "        \"don't know. Use three sentences maximum and keep the \"\n",
    "        \"answer concise.\"\n",
    "        \"\\n\\n\"\n",
    "        f\"{docs_content}\"\n",
    "    )\n",
    "    conversation_messages = [\n",
    "        message\n",
    "        for message in state[\"messages\"]\n",
    "        if message.type in (\"human\", \"system\")\n",
    "        or (message.type == \"ai\" and not message.tool_calls)\n",
    "    ]\n",
    "    prompt = [SystemMessage(system_message_content)] + conversation_messages\n",
    "\n",
    "    # Run\n",
    "    response = llm.invoke(prompt)\n",
    "    return {\"messages\": [response]}"
   ]
  },
  {
   "cell_type": "markdown",
   "id": "eb295c8e-930d-4f64-88f2-657f4e0f1d34",
   "metadata": {},
   "source": [
    "<p> \n",
    "ToolNode does the following:\n",
    "Creates a graph that works with a chat model that utilizes tool calling. \n",
    "</p>"
   ]
  },
  {
   "cell_type": "markdown",
   "id": "f7d007c3-a793-41fb-a5f5-04a10623f528",
   "metadata": {},
   "source": [
    "<h2> Building a graph to specify the order of steps </h2>"
   ]
  },
  {
   "cell_type": "code",
   "execution_count": 27,
   "id": "8daad481-9133-4fef-84eb-fc3e63da2f96",
   "metadata": {},
   "outputs": [],
   "source": [
    "from langgraph.graph import END\n",
    "from langgraph.prebuilt import ToolNode, tools_condition\n",
    "\n",
    "graph_builder.add_node(query_or_respond)\n",
    "graph_builder.add_node(tools)\n",
    "graph_builder.add_node(generate)\n",
    "\n",
    "graph_builder.set_entry_point(\"query_or_respond\")\n",
    "graph_builder.add_conditional_edges(\n",
    "    \"query_or_respond\",\n",
    "    tools_condition,\n",
    "    {END: END, \"tools\": \"tools\"},\n",
    ")\n",
    "graph_builder.add_edge(\"tools\", \"generate\")\n",
    "graph_builder.add_edge(\"generate\", END)\n",
    "\n",
    "graph = graph_builder.compile()"
   ]
  },
  {
   "cell_type": "markdown",
   "id": "488a273c-2cc0-4855-a02e-3e6f5b3579b7",
   "metadata": {},
   "source": [
    "<h3> visualize the graph </h3>"
   ]
  },
  {
   "cell_type": "code",
   "execution_count": 30,
   "id": "4eb19bd2-b355-4d2e-872b-33a5dbe740f9",
   "metadata": {},
   "outputs": [
    {
     "data": {
      "text/plain": [
       "langgraph.graph.state.CompiledStateGraph"
      ]
     },
     "execution_count": 30,
     "metadata": {},
     "output_type": "execute_result"
    }
   ],
   "source": [
    "type(graph)"
   ]
  },
  {
   "cell_type": "code",
   "execution_count": 31,
   "id": "f10e902e-0fc6-4842-82f5-43de67ec27b5",
   "metadata": {},
   "outputs": [
    {
     "data": {
      "text/plain": [
       "langchain_core.runnables.graph.Graph"
      ]
     },
     "execution_count": 31,
     "metadata": {},
     "output_type": "execute_result"
    }
   ],
   "source": [
    "type(graph.get_graph())"
   ]
  },
  {
   "cell_type": "code",
   "execution_count": 33,
   "id": "0c0eb878-6e22-4d9c-b07c-f1f7e403473a",
   "metadata": {},
   "outputs": [],
   "source": [
    "from langchain_core.runnables.graph import Graph as gph"
   ]
  },
  {
   "cell_type": "code",
   "execution_count": 44,
   "id": "b5538e20-8745-4617-819f-db3e7948cad0",
   "metadata": {},
   "outputs": [],
   "source": [
    "# help(gph)"
   ]
  },
  {
   "cell_type": "code",
   "execution_count": 35,
   "id": "6606952b-e920-4be2-a4f6-c1198f8d00c0",
   "metadata": {},
   "outputs": [
    {
     "data": {
      "image/png": "[encoded data removed]",
      "text/plain": [
       "<IPython.core.display.Image object>"
      ]
     },
     "metadata": {},
     "output_type": "display_data"
    }
   ],
   "source": [
    "from IPython.display import Image, display\n",
    "\n",
    "display(Image(graph.get_graph().draw_mermaid_png()))"
   ]
  },
  {
   "cell_type": "markdown",
   "id": "55620209-c548-4039-a8f6-d8c8d87a4ea6",
   "metadata": {},
   "source": [
    "<h1> run </h1>"
   ]
  },
  {
   "cell_type": "code",
   "execution_count": 28,
   "id": "e18b320f-da14-4886-8724-7f8033cafeeb",
   "metadata": {},
   "outputs": [
    {
     "name": "stdout",
     "output_type": "stream",
     "text": [
      "================================\u001b[1m Human Message \u001b[0m=================================\n",
      "\n",
      "Hello\n",
      "==================================\u001b[1m Ai Message \u001b[0m==================================\n",
      "\n",
      "Hello! How can I assist you today?\n"
     ]
    }
   ],
   "source": [
    "input_message = \"Hello\"\n",
    "\n",
    "for step in graph.stream(\n",
    "    {\"messages\": [{\"role\": \"user\", \"content\": input_message}]},\n",
    "    stream_mode=\"values\",\n",
    "):\n",
    "    step[\"messages\"][-1].pretty_print()"
   ]
  },
  {
   "cell_type": "code",
   "execution_count": 29,
   "id": "740fba70-1715-4818-8ae8-9a4520f1846f",
   "metadata": {
    "scrolled": true
   },
   "outputs": [
    {
     "name": "stdout",
     "output_type": "stream",
     "text": [
      "================================\u001b[1m Human Message \u001b[0m=================================\n",
      "\n",
      "What is Task Decomposition?\n",
      "==================================\u001b[1m Ai Message \u001b[0m==================================\n",
      "Tool Calls:\n",
      "  retrieve (call_Vi6UXKFEbDdo6RSyMZBsnVqC)\n",
      " Call ID: call_Vi6UXKFEbDdo6RSyMZBsnVqC\n",
      "  Args:\n",
      "    query: Task Decomposition\n",
      "=================================\u001b[1m Tool Message \u001b[0m=================================\n",
      "Name: retrieve\n",
      "\n",
      "Source: {'source': 'https://lilianweng.github.io/posts/2023-06-23-agent/'}\n",
      "Content: Fig. 1. Overview of a LLM-powered autonomous agent system.\n",
      "Component One: Planning#\n",
      "A complicated task usually involves many steps. An agent needs to know what they are and plan ahead.\n",
      "Task Decomposition#\n",
      "Chain of thought (CoT; Wei et al. 2022) has become a standard prompting technique for enhancing model performance on complex tasks. The model is instructed to “think step by step” to utilize more test-time computation to decompose hard tasks into smaller and simpler steps. CoT transforms big tasks into multiple manageable tasks and shed lights into an interpretation of the model’s thinking process.\n",
      "\n",
      "Source: {'source': 'https://lilianweng.github.io/posts/2023-06-23-agent/'}\n",
      "Content: Tree of Thoughts (Yao et al. 2023) extends CoT by exploring multiple reasoning possibilities at each step. It first decomposes the problem into multiple thought steps and generates multiple thoughts per step, creating a tree structure. The search process can be BFS (breadth-first search) or DFS (depth-first search) with each state evaluated by a classifier (via a prompt) or majority vote.\n",
      "Task decomposition can be done (1) by LLM with simple prompting like \"Steps for XYZ.\\n1.\", \"What are the subgoals for achieving XYZ?\", (2) by using task-specific instructions; e.g. \"Write a story outline.\" for writing a novel, or (3) with human inputs.\n",
      "==================================\u001b[1m Ai Message \u001b[0m==================================\n",
      "\n",
      "Task Decomposition is the process of breaking down a complicated task into smaller, more manageable steps. It often involves techniques like Chain of Thought (CoT), where a model is prompted to think step by step, enhancing its performance on complex tasks. This approach helps clarify the model's reasoning and makes it easier to tackle difficult problems.\n"
     ]
    }
   ],
   "source": [
    "input_message = \"What is Task Decomposition?\"\n",
    "\n",
    "for step in graph.stream(\n",
    "    {\"messages\": [{\"role\": \"user\", \"content\": input_message}]},\n",
    "    stream_mode=\"values\",\n",
    "):\n",
    "    step[\"messages\"][-1].pretty_print()"
   ]
  },
  {
   "cell_type": "markdown",
   "id": "23589b51-c312-43ee-93cf-684639afbd5e",
   "metadata": {},
   "source": [
    "<h1> Adding persistance usign langGraph to our model </h1>"
   ]
  },
  {
   "cell_type": "markdown",
   "id": "dad6945d-269b-4aa0-b834-c73806c322b2",
   "metadata": {},
   "source": [
    "<p>\n",
    "The main thing is using checkpointers, which are essentially saving memory during each step.\n",
    "</p>"
   ]
  },
  {
   "cell_type": "code",
   "execution_count": 37,
   "id": "585a0419-b9c5-4bac-9340-8d0d966aaaf5",
   "metadata": {},
   "outputs": [],
   "source": [
    "from langgraph.checkpoint.memory import MemorySaver\n",
    "\n",
    "memory = MemorySaver()\n",
    "graph = graph_builder.compile(checkpointer=memory)\n",
    "\n",
    "# Specify an ID for the thread\n",
    "config = {\"configurable\": {\"thread_id\": \"abc123\"}}"
   ]
  },
  {
   "cell_type": "code",
   "execution_count": 39,
   "id": "79b9addf-c263-4dec-9268-14a027e4232a",
   "metadata": {},
   "outputs": [
    {
     "name": "stdout",
     "output_type": "stream",
     "text": [
      "================================\u001b[1m Human Message \u001b[0m=================================\n",
      "\n",
      "What is Task Decomposition?\n",
      "==================================\u001b[1m Ai Message \u001b[0m==================================\n",
      "\n",
      "Task Decomposition is the process of breaking down a complex task into smaller, more manageable components or steps. This technique is often used in various fields, including artificial intelligence and project management, to simplify problem-solving and enhance understanding.\n",
      "\n",
      "In the context of AI, particularly with large language models (LLMs), Task Decomposition can involve prompting the model to think step by step, allowing it to tackle difficult tasks more effectively. This method can be implemented through various strategies, such as:\n",
      "\n",
      "1. **Chain of Thought (CoT)**: A prompting technique that encourages the model to articulate its reasoning process step by step.\n",
      "2. **Tree of Thoughts**: An extension of CoT that explores multiple reasoning possibilities at each step, creating a tree structure of thoughts and potential solutions.\n",
      "3. **Task-Specific Instructions**: Providing specific prompts tailored to the task at hand, such as asking for a story outline when writing a novel.\n",
      "\n",
      "Overall, Task Decomposition helps in clarifying complex tasks, making them easier to understand and execute.\n"
     ]
    }
   ],
   "source": [
    "input_message = \"What is Task Decomposition?\"\n",
    "\n",
    "for step in graph.stream(\n",
    "    {\"messages\": [{\"role\": \"user\", \"content\": input_message}]},\n",
    "    stream_mode=\"values\",\n",
    "    config=config,\n",
    "):\n",
    "    step[\"messages\"][-1].pretty_print()"
   ]
  },
  {
   "cell_type": "code",
   "execution_count": 40,
   "id": "632f2020-8945-45cd-b133-e0b67c4b6cdf",
   "metadata": {
    "scrolled": true
   },
   "outputs": [
    {
     "name": "stdout",
     "output_type": "stream",
     "text": [
      "================================\u001b[1m Human Message \u001b[0m=================================\n",
      "\n",
      "As a programmer or engineer what do i need to I need to know if I were to use Task Decomposition?\n",
      "==================================\u001b[1m Ai Message \u001b[0m==================================\n",
      "\n",
      "If you're a programmer or engineer looking to use Task Decomposition, here are some key points and considerations to keep in mind:\n",
      "\n",
      "1. **Understanding the Problem**:\n",
      "   - Clearly define the overall task or problem you are trying to solve.\n",
      "   - Identify the goals and desired outcomes of the task.\n",
      "\n",
      "2. **Breaking Down the Task**:\n",
      "   - Divide the main task into smaller, manageable sub-tasks or components.\n",
      "   - Ensure that each sub-task is specific, actionable, and can be completed independently.\n",
      "\n",
      "3. **Prioritization**:\n",
      "   - Determine the order in which the sub-tasks should be completed.\n",
      "   - Identify dependencies between tasks to understand which tasks must be completed before others.\n",
      "\n",
      "4. **Use of Prompts and Techniques**:\n",
      "   - Familiarize yourself with techniques like Chain of Thought (CoT) and Tree of Thoughts to guide the decomposition process.\n",
      "   - Experiment with different prompting strategies to see which yields the best results for your specific task.\n",
      "\n",
      "5. **Iterative Approach**:\n",
      "   - Be prepared to iterate on your decomposition. As you work through the sub-tasks, you may find that further breakdown is necessary or that some tasks can be combined.\n",
      "\n",
      "6. **Testing and Validation**:\n",
      "   - Implement tests for each sub-task to ensure they function correctly before integrating them into the larger task.\n",
      "   - Validate the overall solution against the original goals to ensure it meets the desired outcomes.\n",
      "\n",
      "7. **Documentation**:\n",
      "   - Document the decomposition process, including the rationale for breaking down tasks and any insights gained during the process.\n",
      "   - This documentation can be valuable for future reference or for other team members.\n",
      "\n",
      "8. **Collaboration**:\n",
      "   - If working in a team, communicate effectively with team members about the decomposition process and ensure everyone understands their roles in completing the sub-tasks.\n",
      "\n",
      "9. **Tools and Frameworks**:\n",
      "   - Consider using project management tools or frameworks that support task decomposition, such as Agile methodologies, Kanban boards, or Gantt charts.\n",
      "\n",
      "10. **Continuous Learning**:\n",
      "    - Stay updated on best practices and new techniques in task decomposition, as this field is continually evolving, especially with advancements in AI and machine learning.\n",
      "\n",
      "By keeping these points in mind, you can effectively utilize Task Decomposition to enhance your problem-solving capabilities and improve the efficiency of your projects.\n"
     ]
    }
   ],
   "source": [
    "input_message = \"As a programmer or engineer what do i need to I need to know if I were to use Task Decomposition?\"\n",
    "\n",
    "for step in graph.stream(\n",
    "    {\"messages\": [{\"role\": \"user\", \"content\": input_message}]},\n",
    "    stream_mode=\"values\",\n",
    "    config=config,\n",
    "):\n",
    "    step[\"messages\"][-1].pretty_print()"
   ]
  },
  {
   "cell_type": "markdown",
   "id": "40cab333-47ee-4984-ba0c-ea51839eaa3f",
   "metadata": {},
   "source": [
    "<h1> \n",
    "Agents using a tool\n",
    "</h1>"
   ]
  },
  {
   "cell_type": "code",
   "execution_count": 42,
   "id": "d21243a7-cb70-4174-b5e4-a31e979b6176",
   "metadata": {},
   "outputs": [],
   "source": [
    "from langgraph.prebuilt import create_react_agent\n",
    "\n",
    "agent_executor = create_react_agent(llm, [retrieve], checkpointer=memory)"
   ]
  },
  {
   "cell_type": "code",
   "execution_count": 43,
   "id": "0823d05e-6a1c-4ef5-b0f3-92bc7e1ee6aa",
   "metadata": {},
   "outputs": [
    {
     "data": {
      "image/png": "[encoded data removed]",
      "text/plain": [
       "<IPython.core.display.Image object>"
      ]
     },
     "metadata": {},
     "output_type": "display_data"
    }
   ],
   "source": [
    "display(Image(agent_executor.get_graph().draw_mermaid_png()))"
   ]
  },
  {
   "cell_type": "markdown",
   "id": "f4a911ae-200d-426c-8c69-33da7e2457bf",
   "metadata": {},
   "source": [
    "<p>\n",
    "The key difference from our earlier implementation is that instead of a final generation step that ends the run, here the tool invocation loops back to the original LLM call. The model can then either answer the question using the retrieved context, or generate another tool call to obtain more information.\n",
    "\n",
    "</p>"
   ]
  },
  {
   "cell_type": "code",
   "execution_count": 45,
   "id": "1aae4299-3057-4822-bffd-f3eabc3ec95a",
   "metadata": {},
   "outputs": [
    {
     "name": "stdout",
     "output_type": "stream",
     "text": [
      "================================\u001b[1m Human Message \u001b[0m=================================\n",
      "\n",
      "What is the standard method for Task Decomposition?\n",
      "\n",
      "Once you get the answer, look up common extensions of that method.\n",
      "==================================\u001b[1m Ai Message \u001b[0m==================================\n",
      "Tool Calls:\n",
      "  retrieve (call_3TY3VZ4C0sybPk5cA3L1biNv)\n",
      " Call ID: call_3TY3VZ4C0sybPk5cA3L1biNv\n",
      "  Args:\n",
      "    query: standard method for Task Decomposition\n",
      "=================================\u001b[1m Tool Message \u001b[0m=================================\n",
      "Name: retrieve\n",
      "\n",
      "Source: {'source': 'https://lilianweng.github.io/posts/2023-06-23-agent/'}\n",
      "Content: Tree of Thoughts (Yao et al. 2023) extends CoT by exploring multiple reasoning possibilities at each step. It first decomposes the problem into multiple thought steps and generates multiple thoughts per step, creating a tree structure. The search process can be BFS (breadth-first search) or DFS (depth-first search) with each state evaluated by a classifier (via a prompt) or majority vote.\n",
      "Task decomposition can be done (1) by LLM with simple prompting like \"Steps for XYZ.\\n1.\", \"What are the subgoals for achieving XYZ?\", (2) by using task-specific instructions; e.g. \"Write a story outline.\" for writing a novel, or (3) with human inputs.\n",
      "\n",
      "Source: {'source': 'https://lilianweng.github.io/posts/2023-06-23-agent/'}\n",
      "Content: Fig. 1. Overview of a LLM-powered autonomous agent system.\n",
      "Component One: Planning#\n",
      "A complicated task usually involves many steps. An agent needs to know what they are and plan ahead.\n",
      "Task Decomposition#\n",
      "Chain of thought (CoT; Wei et al. 2022) has become a standard prompting technique for enhancing model performance on complex tasks. The model is instructed to “think step by step” to utilize more test-time computation to decompose hard tasks into smaller and simpler steps. CoT transforms big tasks into multiple manageable tasks and shed lights into an interpretation of the model’s thinking process.\n",
      "==================================\u001b[1m Ai Message \u001b[0m==================================\n",
      "Tool Calls:\n",
      "  retrieve (call_4328W7IitEPbqhxHKhGrAmrj)\n",
      " Call ID: call_4328W7IitEPbqhxHKhGrAmrj\n",
      "  Args:\n",
      "    query: common extensions of Task Decomposition method\n",
      "=================================\u001b[1m Tool Message \u001b[0m=================================\n",
      "Name: retrieve\n",
      "\n",
      "Source: {'source': 'https://lilianweng.github.io/posts/2023-06-23-agent/'}\n",
      "Content: Tree of Thoughts (Yao et al. 2023) extends CoT by exploring multiple reasoning possibilities at each step. It first decomposes the problem into multiple thought steps and generates multiple thoughts per step, creating a tree structure. The search process can be BFS (breadth-first search) or DFS (depth-first search) with each state evaluated by a classifier (via a prompt) or majority vote.\n",
      "Task decomposition can be done (1) by LLM with simple prompting like \"Steps for XYZ.\\n1.\", \"What are the subgoals for achieving XYZ?\", (2) by using task-specific instructions; e.g. \"Write a story outline.\" for writing a novel, or (3) with human inputs.\n",
      "\n",
      "Source: {'source': 'https://lilianweng.github.io/posts/2023-06-23-agent/'}\n",
      "Content: Fig. 1. Overview of a LLM-powered autonomous agent system.\n",
      "Component One: Planning#\n",
      "A complicated task usually involves many steps. An agent needs to know what they are and plan ahead.\n",
      "Task Decomposition#\n",
      "Chain of thought (CoT; Wei et al. 2022) has become a standard prompting technique for enhancing model performance on complex tasks. The model is instructed to “think step by step” to utilize more test-time computation to decompose hard tasks into smaller and simpler steps. CoT transforms big tasks into multiple manageable tasks and shed lights into an interpretation of the model’s thinking process.\n",
      "==================================\u001b[1m Ai Message \u001b[0m==================================\n",
      "\n",
      "The standard method for Task Decomposition involves breaking down complex tasks into smaller, manageable steps. This can be achieved through various approaches:\n",
      "\n",
      "1. **Chain of Thought (CoT)**: This method encourages models to \"think step by step,\" allowing them to utilize more computational resources during testing to decompose difficult tasks into simpler components. It transforms large tasks into multiple manageable tasks and provides insight into the model's reasoning process.\n",
      "\n",
      "2. **Prompting Techniques**: Task decomposition can be facilitated by using simple prompts, such as asking for the steps to achieve a specific goal or identifying subgoals.\n",
      "\n",
      "3. **Task-Specific Instructions**: Providing specific instructions tailored to the task at hand can also aid in decomposition. For example, asking for a story outline when writing a novel.\n",
      "\n",
      "4. **Human Inputs**: Involving human inputs in the decomposition process can enhance the effectiveness of the task breakdown.\n",
      "\n",
      "### Common Extensions of Task Decomposition\n",
      "\n",
      "One notable extension of the standard method is the **Tree of Thoughts** (Yao et al. 2023). This approach builds on the CoT method by exploring multiple reasoning possibilities at each step. It decomposes the problem into various thought steps and generates multiple thoughts for each step, creating a tree structure. The search process can utilize either breadth-first search (BFS) or depth-first search (DFS), with each state evaluated by a classifier or through majority voting.\n",
      "\n",
      "These extensions enhance the ability to tackle complex tasks by allowing for more nuanced reasoning and exploration of different pathways to a solution.\n"
     ]
    }
   ],
   "source": [
    "config = {\"configurable\": {\"thread_id\": \"def234\"}}\n",
    "\n",
    "input_message = (\n",
    "    \"What is the standard method for Task Decomposition?\\n\\n\"\n",
    "    \"Once you get the answer, look up common extensions of that method.\"\n",
    ")\n",
    "\n",
    "for event in agent_executor.stream(\n",
    "    {\"messages\": [{\"role\": \"user\", \"content\": input_message}]},\n",
    "    stream_mode=\"values\",\n",
    "    config=config,\n",
    "):\n",
    "    event[\"messages\"][-1].pretty_print()"
   ]
  },
  {
   "cell_type": "code",
   "execution_count": null,
   "id": "aae587b6-bd9f-483c-93be-16bdd0f82f6f",
   "metadata": {},
   "outputs": [],
   "source": []
  }
 ],
 "metadata": {
  "kernelspec": {
   "display_name": "Python 3 (ipykernel)",
   "language": "python",
   "name": "python3"
  },
  "language_info": {
   "codemirror_mode": {
    "name": "ipython",
    "version": 3
   },
   "file_extension": ".py",
   "mimetype": "text/x-python",
   "name": "python",
   "nbconvert_exporter": "python",
   "pygments_lexer": "ipython3",
   "version": "3.13.2"
  }
 },
 "nbformat": 4,
 "nbformat_minor": 5
}
